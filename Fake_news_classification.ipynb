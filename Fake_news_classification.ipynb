{
  "nbformat": 4,
  "nbformat_minor": 0,
  "metadata": {
    "colab": {
      "name": "Fake news classification.ipynb",
      "provenance": [],
      "collapsed_sections": []
    },
    "kernelspec": {
      "name": "python3",
      "display_name": "Python 3"
    },
    "language_info": {
      "name": "python"
    },
    "accelerator": "GPU"
  },
  "cells": [
    {
      "cell_type": "code",
      "metadata": {
        "id": "KUX7fHVEv19I"
      },
      "source": [
        "# pip install simpletransformers"
      ],
      "execution_count": null,
      "outputs": []
    },
    {
      "cell_type": "markdown",
      "metadata": {
        "id": "gjdySw2oyfrT"
      },
      "source": [
        "## Data loading"
      ]
    },
    {
      "cell_type": "code",
      "metadata": {
        "id": "U3XvqAUXlPFk"
      },
      "source": [
        "import numpy as np\n",
        "import pandas as pd\n",
        "import seaborn as sns\n",
        "import matplotlib.pyplot as plt\n",
        "import tensorflow as tf\n",
        "import tensorflow_hub as hub\n",
        "from tensorflow import keras\n",
        "import torch\n",
        "from sklearn.model_selection import train_test_split\n",
        "from sklearn.utils import shuffle\n",
        "from sklearn.neighbors import NearestCentroid, KNeighborsClassifier\n",
        "from sklearn.pipeline import Pipeline\n",
        "from sklearn import metrics, tree\n",
        "from sklearn.metrics import roc_auc_score, roc_curve, auc, recall_score, confusion_matrix\n",
        "from sklearn.feature_extraction.text import CountVectorizer, TfidfTransformer\n",
        "from sklearn.ensemble import GradientBoostingClassifier, BaggingClassifier, RandomForestClassifier\n",
        "from sklearn.naive_bayes import MultinomialNB\n",
        "from sklearn.svm import LinearSVC\n",
        "from simpletransformers.classification import ClassificationModel, ClassificationArgs\n",
        "import logging"
      ],
      "execution_count": null,
      "outputs": []
    },
    {
      "cell_type": "code",
      "metadata": {
        "id": "tyGbhyLmlXT5"
      },
      "source": [
        "df = pd.read_excel(\"/content/drive/MyDrive/Data/force1000-fake1000.xlsx\")\n",
        "df = shuffle(df)"
      ],
      "execution_count": null,
      "outputs": []
    },
    {
      "cell_type": "code",
      "metadata": {
        "colab": {
          "base_uri": "https://localhost:8080/",
          "height": 173
        },
        "id": "9newOanClhC6",
        "outputId": "78a6c69d-29f9-48aa-fd18-06c6659b6254"
      },
      "source": [
        "df[:4]"
      ],
      "execution_count": null,
      "outputs": [
        {
          "output_type": "execute_result",
          "data": {
            "text/html": [
              "<div>\n",
              "<style scoped>\n",
              "    .dataframe tbody tr th:only-of-type {\n",
              "        vertical-align: middle;\n",
              "    }\n",
              "\n",
              "    .dataframe tbody tr th {\n",
              "        vertical-align: top;\n",
              "    }\n",
              "\n",
              "    .dataframe thead th {\n",
              "        text-align: right;\n",
              "    }\n",
              "</style>\n",
              "<table border=\"1\" class=\"dataframe\">\n",
              "  <thead>\n",
              "    <tr style=\"text-align: right;\">\n",
              "      <th></th>\n",
              "      <th>Время</th>\n",
              "      <th>Сила</th>\n",
              "      <th>Δ новость и рывок</th>\n",
              "      <th>Новость</th>\n",
              "      <th>Разгон</th>\n",
              "    </tr>\n",
              "  </thead>\n",
              "  <tbody>\n",
              "    <tr>\n",
              "      <th>1178</th>\n",
              "      <td>2020-03-30 10:02:00</td>\n",
              "      <td>0.054200</td>\n",
              "      <td>-59.216667</td>\n",
              "      <td>''Новости компаний — обзоры прессы перед откры...</td>\n",
              "      <td>0</td>\n",
              "    </tr>\n",
              "    <tr>\n",
              "      <th>1344</th>\n",
              "      <td>2019-11-05 10:50:00</td>\n",
              "      <td>0.099491</td>\n",
              "      <td>355.500000</td>\n",
              "      <td>​​ Банкиры не хотят принимать материнский капи...</td>\n",
              "      <td>0</td>\n",
              "    </tr>\n",
              "    <tr>\n",
              "      <th>399</th>\n",
              "      <td>2021-01-14 14:26:00</td>\n",
              "      <td>0.066056</td>\n",
              "      <td>20.516667</td>\n",
              "      <td>🔥 🔥 🔥 Куйбышевазот ( KAZT , KAZTP) — драгоценн...</td>\n",
              "      <td>1</td>\n",
              "    </tr>\n",
              "    <tr>\n",
              "      <th>2003</th>\n",
              "      <td>2020-03-31 10:17:00</td>\n",
              "      <td>0.055294</td>\n",
              "      <td>-17.816667</td>\n",
              "      <td>Транснефть #TRNFP Компании «Транснефть», «Сург...</td>\n",
              "      <td>0</td>\n",
              "    </tr>\n",
              "  </tbody>\n",
              "</table>\n",
              "</div>"
            ],
            "text/plain": [
              "                   Время  ...  Разгон\n",
              "1178 2020-03-30 10:02:00  ...       0\n",
              "1344 2019-11-05 10:50:00  ...       0\n",
              "399  2021-01-14 14:26:00  ...       1\n",
              "2003 2020-03-31 10:17:00  ...       0\n",
              "\n",
              "[4 rows x 5 columns]"
            ]
          },
          "metadata": {
            "tags": []
          },
          "execution_count": 5
        }
      ]
    },
    {
      "cell_type": "markdown",
      "metadata": {
        "id": "gOT8WpHpGXHO"
      },
      "source": [
        "## Data type conversion"
      ]
    },
    {
      "cell_type": "code",
      "metadata": {
        "id": "DZ3WkXXQuXq6"
      },
      "source": [
        "df[\"Сила\"] = df[\"Сила\"].round(4)\n",
        "df[\"Δ новость и рывок\"] = df[\"Δ новость и рывок\"].round(1)\n",
        "df[\"Время\"] = df[\"Время\"].astype(\"datetime64\")\n",
        "df[\"Сила\"] = df[\"Сила\"].astype(\"float64\")\n",
        "df[\"Δ новость и рывок\"] = df[\"Δ новость и рывок\"].astype(\"float64\")\n",
        "df[\"Новость\"] = df[\"Новость\"].astype(\"object\")\n",
        "df[\"Разгон\"] = df[\"Разгон\"].astype(\"bool\")"
      ],
      "execution_count": null,
      "outputs": []
    },
    {
      "cell_type": "markdown",
      "metadata": {
        "id": "C5AqIwAIGdzt"
      },
      "source": [
        "## Excluding irrelevant columns"
      ]
    },
    {
      "cell_type": "code",
      "metadata": {
        "id": "eY1j-AkTo2kF"
      },
      "source": [
        "X = df.drop([\"Разгон\", \"Время\",\t\"Сила\",\t\"Δ новость и рывок\"], axis = 1)\n",
        "y = df.drop([\"Время\",\t\"Сила\",\t\"Δ новость и рывок\", \"Новость\"], axis = 1)"
      ],
      "execution_count": null,
      "outputs": []
    },
    {
      "cell_type": "code",
      "metadata": {
        "id": "jIP2iL4jj80C"
      },
      "source": [
        "train_df = df.drop([\"Время\",\t\"Сила\",\t\"Δ новость и рывок\"], axis = 1)[:round(0.7*len(df))]\n",
        "eval_df = df.drop([\"Время\",\t\"Сила\",\t\"Δ новость и рывок\"], axis = 1)[round(0.7*len(df)):len(df)]"
      ],
      "execution_count": null,
      "outputs": []
    },
    {
      "cell_type": "code",
      "metadata": {
        "id": "V69u8WHGnOH2"
      },
      "source": [
        "X_train, X_test, y_train, y_test = train_test_split(X, y, random_state = 77, test_size = 0.3, shuffle = True)"
      ],
      "execution_count": null,
      "outputs": []
    },
    {
      "cell_type": "code",
      "metadata": {
        "id": "itU_kao4zAzA"
      },
      "source": [
        "X_train = df.Новость.values[:round(0.7*len(df))]\n",
        "y_train = df.Разгон.values[:round(0.7*len(df))]\n",
        "X_test = df.Новость.values[round(0.7*len(df)):len(df)]\n",
        "y_test = df.Разгон.values[round(0.7*len(df)):len(df)]"
      ],
      "execution_count": null,
      "outputs": []
    },
    {
      "cell_type": "markdown",
      "metadata": {
        "id": "95IM-btD13F6"
      },
      "source": [
        "## Simple Transformers"
      ]
    },
    {
      "cell_type": "code",
      "metadata": {
        "id": "TvmbpVmY1wvy"
      },
      "source": [
        "logging.basicConfig(level=logging.INFO)\n",
        "transformers_logger = logging.getLogger(\"transformers\")\n",
        "# transformers_logger.setLevel(logging.WARNING)"
      ],
      "execution_count": null,
      "outputs": []
    },
    {
      "cell_type": "code",
      "metadata": {
        "id": "ztY0guHv2ln6"
      },
      "source": [
        "cuda_available = torch.cuda.is_available()\n",
        "model_args = ClassificationArgs(num_train_epochs=5)\n",
        "model = ClassificationModel(\"roberta\", \"roberta-base\", use_cuda = cuda_available, args = {\"learning_rate\": 1e-4, \"batch_size\": 256, \"overwrite_output_dir\": True})"
      ],
      "execution_count": null,
      "outputs": []
    },
    {
      "cell_type": "code",
      "metadata": {
        "id": "SX9tVRJs2nju"
      },
      "source": [
        "model.train_model(train_df, verbose=False);\n",
        "result, model_outputs, wrong_predictions = model.eval_model(eval_df, verbose=False);\n",
        "result"
      ],
      "execution_count": null,
      "outputs": []
    },
    {
      "cell_type": "markdown",
      "metadata": {
        "id": "UI5tvQ9DKINp"
      },
      "source": [
        "## Rocchio (Nearest Centroid) classifier"
      ]
    },
    {
      "cell_type": "code",
      "metadata": {
        "colab": {
          "base_uri": "https://localhost:8080/"
        },
        "id": "qh10krLPKZM6",
        "outputId": "78945d04-0812-4907-fe9e-2f86937eda75"
      },
      "source": [
        "text_clf = Pipeline([('vect', CountVectorizer()),\n",
        "                     ('tfidf', TfidfTransformer()),\n",
        "                     ('clf', NearestCentroid())])\n",
        "\n",
        "text_clf.fit(X_train, y_train)\n",
        "predicted = text_clf.predict(X_test)\n",
        "print(metrics.classification_report(y_test, predicted))"
      ],
      "execution_count": null,
      "outputs": [
        {
          "output_type": "stream",
          "text": [
            "              precision    recall  f1-score   support\n",
            "\n",
            "       False       0.83      0.87      0.85       304\n",
            "        True       0.86      0.82      0.84       305\n",
            "\n",
            "    accuracy                           0.85       609\n",
            "   macro avg       0.85      0.85      0.85       609\n",
            "weighted avg       0.85      0.85      0.85       609\n",
            "\n"
          ],
          "name": "stdout"
        }
      ]
    },
    {
      "cell_type": "code",
      "metadata": {
        "id": "nosp7HuCQf_u"
      },
      "source": [
        "tn, fp, fn, tp = confusion_matrix(y_test, predicted).ravel()\n",
        "fpr = fp / (fp + tn)\n",
        "tpr = tp / (tp + fn)\n",
        "rocchio_rocauc = round(roc_auc_score(y_test, predicted, average='weighted'), 2)"
      ],
      "execution_count": null,
      "outputs": []
    },
    {
      "cell_type": "code",
      "metadata": {
        "colab": {
          "base_uri": "https://localhost:8080/"
        },
        "id": "qRE5aVVKQf_u",
        "outputId": "a057311a-f6a4-47e1-a340-611e3b51ffa5"
      },
      "source": [
        "plt.figure(figsize=(6, 4))\n",
        "fpr, tpr, thresholds = roc_curve(y_test, predicted, pos_label=1)\n",
        "plt.plot(fpr, tpr, lw=2, label='ROC curve ', color='navy')\n",
        "plt.plot([0, 1], [0, 1], color = 'r')\n",
        "plt.xlabel('False Positive Rate')\n",
        "plt.ylabel('True Positive Rate')\n",
        "plt.title('ROC curve')\n",
        "plt.show()"
      ],
      "execution_count": null,
      "outputs": [
        {
          "output_type": "display_data",
          "data": {
            "image/png": "[encoded data removed]",
            "text/plain": [
              "<Figure size 432x288 with 1 Axes>"
            ]
          },
          "metadata": {
            "tags": [],
            "needs_background": "light"
          }
        }
      ]
    },
    {
      "cell_type": "markdown",
      "metadata": {
        "id": "7zVcmdEfKKKg"
      },
      "source": [
        "## Boosting"
      ]
    },
    {
      "cell_type": "code",
      "metadata": {
        "colab": {
          "base_uri": "https://localhost:8080/"
        },
        "id": "h3S8k9R6KKgo",
        "outputId": "b0cede9e-8d42-4d26-8496-1b4fcf1fa737"
      },
      "source": [
        "text_clf = Pipeline([('vect', CountVectorizer()),\n",
        "                     ('tfidf', TfidfTransformer()),\n",
        "                     ('clf', GradientBoostingClassifier(n_estimators=100,\n",
        "                      learning_rate=0.01, loss=\"exponential\",\n",
        "                      max_depth=None, random_state=14,\n",
        "                      max_features=\"sqrt\", n_iter_no_change=5,\n",
        "                      validation_fraction=0.4, tol=0.01))])\n",
        "\n",
        "text_clf.fit(X_train, y_train)\n",
        "predicted = text_clf.predict(X_test)\n",
        "print(metrics.classification_report(y_test, predicted))"
      ],
      "execution_count": null,
      "outputs": [
        {
          "output_type": "stream",
          "text": [
            "              precision    recall  f1-score   support\n",
            "\n",
            "       False       0.86      0.88      0.87       304\n",
            "        True       0.88      0.86      0.87       305\n",
            "\n",
            "    accuracy                           0.87       609\n",
            "   macro avg       0.87      0.87      0.87       609\n",
            "weighted avg       0.87      0.87      0.87       609\n",
            "\n"
          ],
          "name": "stdout"
        }
      ]
    },
    {
      "cell_type": "code",
      "metadata": {
        "id": "erLIOXq2QftI"
      },
      "source": [
        "tn, fp, fn, tp = confusion_matrix(y_test, predicted).ravel()\n",
        "fpr = fp / (fp + tn)\n",
        "tpr = tp / (tp + fn)\n",
        "boosting_rocauc = round(roc_auc_score(y_test, predicted, average='weighted'), 2)"
      ],
      "execution_count": null,
      "outputs": []
    },
    {
      "cell_type": "code",
      "metadata": {
        "colab": {
          "base_uri": "https://localhost:8080/"
        },
        "id": "u5DpN8gzQftK",
        "outputId": "3aba0674-cf71-48d2-a7e3-e88c4d05c0b4"
      },
      "source": [
        "plt.figure(figsize=(6, 4))\n",
        "fpr, tpr, thresholds = roc_curve(y_test, predicted, pos_label=1)\n",
        "plt.plot(fpr, tpr, lw=2, label='ROC curve ', color='navy')\n",
        "plt.plot([0, 1], [0, 1], color = 'r')\n",
        "plt.xlabel('False Positive Rate')\n",
        "plt.ylabel('True Positive Rate')\n",
        "plt.title('ROC curve')\n",
        "plt.show()"
      ],
      "execution_count": null,
      "outputs": [
        {
          "output_type": "display_data",
          "data": {
            "image/png": "[encoded data removed]",
            "text/plain": [
              "<Figure size 432x288 with 1 Axes>"
            ]
          },
          "metadata": {
            "tags": [],
            "needs_background": "light"
          }
        }
      ]
    },
    {
      "cell_type": "markdown",
      "metadata": {
        "id": "mRJOFVovKkuX"
      },
      "source": [
        "## Bagging"
      ]
    },
    {
      "cell_type": "code",
      "metadata": {
        "colab": {
          "base_uri": "https://localhost:8080/"
        },
        "id": "2DHeiWybKtEh",
        "outputId": "e0a3b434-67a3-49b3-f225-bed5d82de007"
      },
      "source": [
        "text_clf = Pipeline([('vect', CountVectorizer()),\n",
        "                     ('tfidf', TfidfTransformer()),\n",
        "                     ('clf', BaggingClassifier(n_estimators=100,\n",
        "                      oob_score=True, n_jobs=-1, random_state=57))])\n",
        "\n",
        "text_clf.fit(X_train, y_train)\n",
        "predicted = text_clf.predict(X_test)\n",
        "print(metrics.classification_report(y_test, predicted))"
      ],
      "execution_count": null,
      "outputs": [
        {
          "output_type": "stream",
          "text": [
            "              precision    recall  f1-score   support\n",
            "\n",
            "       False       0.86      0.90      0.88       304\n",
            "        True       0.89      0.86      0.88       305\n",
            "\n",
            "    accuracy                           0.88       609\n",
            "   macro avg       0.88      0.88      0.88       609\n",
            "weighted avg       0.88      0.88      0.88       609\n",
            "\n"
          ],
          "name": "stdout"
        }
      ]
    },
    {
      "cell_type": "code",
      "metadata": {
        "id": "YP_82F7xQfS1"
      },
      "source": [
        "tn, fp, fn, tp = confusion_matrix(y_test, predicted).ravel()\n",
        "fpr = fp / (fp + tn)\n",
        "tpr = tp / (tp + fn)\n",
        "bagging_rocauc = round(roc_auc_score(y_test, predicted, average='weighted'), 2)"
      ],
      "execution_count": null,
      "outputs": []
    },
    {
      "cell_type": "code",
      "metadata": {
        "colab": {
          "base_uri": "https://localhost:8080/"
        },
        "id": "O7oO89CuQfS3",
        "outputId": "353ab5e8-2180-48e6-fd0a-4fb88790adb8"
      },
      "source": [
        "plt.figure(figsize=(6, 4))\n",
        "fpr, tpr, thresholds = roc_curve(y_test, predicted, pos_label=1)\n",
        "plt.plot(fpr, tpr, lw=2, label='ROC curve ', color='navy')\n",
        "plt.plot([0, 1], [0, 1], color = 'r')\n",
        "plt.xlabel('False Positive Rate')\n",
        "plt.ylabel('True Positive Rate')\n",
        "plt.title('ROC curve')\n",
        "plt.show()"
      ],
      "execution_count": null,
      "outputs": [
        {
          "output_type": "display_data",
          "data": {
            "image/png": "[encoded data removed]",
            "text/plain": [
              "<Figure size 432x288 with 1 Axes>"
            ]
          },
          "metadata": {
            "tags": [],
            "needs_background": "light"
          }
        }
      ]
    },
    {
      "cell_type": "markdown",
      "metadata": {
        "id": "8rFS1Jd_Kx9q"
      },
      "source": [
        "## Naive Bayes Classifier"
      ]
    },
    {
      "cell_type": "code",
      "metadata": {
        "colab": {
          "base_uri": "https://localhost:8080/"
        },
        "id": "ej7hsQobK0NZ",
        "outputId": "8121ad20-45e4-406f-8b7d-d197008c1698"
      },
      "source": [
        "text_clf = Pipeline([('vect', CountVectorizer()),\n",
        "                     ('tfidf', TfidfTransformer()),\n",
        "                     ('clf', MultinomialNB())])\n",
        "\n",
        "text_clf.fit(X_train, y_train)\n",
        "predicted = text_clf.predict(X_test)\n",
        "print(metrics.classification_report(y_test, predicted))"
      ],
      "execution_count": null,
      "outputs": [
        {
          "output_type": "stream",
          "text": [
            "              precision    recall  f1-score   support\n",
            "\n",
            "       False       0.91      0.75      0.83       304\n",
            "        True       0.79      0.93      0.85       305\n",
            "\n",
            "    accuracy                           0.84       609\n",
            "   macro avg       0.85      0.84      0.84       609\n",
            "weighted avg       0.85      0.84      0.84       609\n",
            "\n"
          ],
          "name": "stdout"
        }
      ]
    },
    {
      "cell_type": "code",
      "metadata": {
        "id": "XOu37vtdQe-a"
      },
      "source": [
        "tn, fp, fn, tp = confusion_matrix(y_test, predicted).ravel()\n",
        "fpr = fp / (fp + tn)\n",
        "tpr = tp / (tp + fn)\n",
        "bayes_rocauc = round(roc_auc_score(y_test, predicted, average='weighted'), 2)"
      ],
      "execution_count": null,
      "outputs": []
    },
    {
      "cell_type": "code",
      "metadata": {
        "colab": {
          "base_uri": "https://localhost:8080/"
        },
        "id": "Mg4rrrG3Qe-c",
        "outputId": "ab6d1c9d-92e2-4d6c-efbe-542911ddb65f"
      },
      "source": [
        "plt.figure(figsize=(6, 4))\n",
        "fpr, tpr, thresholds = roc_curve(y_test, predicted, pos_label=1)\n",
        "plt.plot(fpr, tpr, lw=2, label='ROC curve ', color='navy')\n",
        "plt.plot([0, 1], [0, 1], color = 'r')\n",
        "plt.xlabel('False Positive Rate')\n",
        "plt.ylabel('True Positive Rate')\n",
        "plt.title('ROC curve')\n",
        "plt.show()"
      ],
      "execution_count": null,
      "outputs": [
        {
          "output_type": "display_data",
          "data": {
            "image/png": "[encoded data removed]",
            "text/plain": [
              "<Figure size 432x288 with 1 Axes>"
            ]
          },
          "metadata": {
            "tags": [],
            "needs_background": "light"
          }
        }
      ]
    },
    {
      "cell_type": "markdown",
      "metadata": {
        "id": "27ckzG7KK8Yg"
      },
      "source": [
        "## K-nearest neighbors"
      ]
    },
    {
      "cell_type": "code",
      "metadata": {
        "colab": {
          "base_uri": "https://localhost:8080/"
        },
        "id": "R9ZmkUOAK86D",
        "outputId": "a713dd06-4010-47bc-d0df-27b160b1856e"
      },
      "source": [
        "text_clf = Pipeline([('vect', CountVectorizer()),\n",
        "                     ('tfidf', TfidfTransformer()),\n",
        "                     ('clf', KNeighborsClassifier(n_jobs=-1))])\n",
        "\n",
        "text_clf.fit(X_train, y_train)\n",
        "predicted = text_clf.predict(X_test)\n",
        "print(metrics.classification_report(y_test, predicted))"
      ],
      "execution_count": null,
      "outputs": [
        {
          "output_type": "stream",
          "text": [
            "              precision    recall  f1-score   support\n",
            "\n",
            "       False       0.87      0.80      0.84       304\n",
            "        True       0.82      0.89      0.85       305\n",
            "\n",
            "    accuracy                           0.84       609\n",
            "   macro avg       0.85      0.84      0.84       609\n",
            "weighted avg       0.85      0.84      0.84       609\n",
            "\n"
          ],
          "name": "stdout"
        }
      ]
    },
    {
      "cell_type": "code",
      "metadata": {
        "id": "jwu4gk2_Qeh2"
      },
      "source": [
        "tn, fp, fn, tp = confusion_matrix(y_test, predicted).ravel()\n",
        "fpr = fp / (fp + tn)\n",
        "tpr = tp / (tp + fn)\n",
        "neighbor_rocauc = round(roc_auc_score(y_test, predicted, average='weighted'), 2)"
      ],
      "execution_count": null,
      "outputs": []
    },
    {
      "cell_type": "code",
      "metadata": {
        "colab": {
          "base_uri": "https://localhost:8080/"
        },
        "id": "6Mp6rTQjQeh3",
        "outputId": "37890eff-5d52-4ede-8314-45bd3559e41e"
      },
      "source": [
        "plt.figure(figsize=(6, 4))\n",
        "fpr, tpr, thresholds = roc_curve(y_test, predicted, pos_label=1)\n",
        "plt.plot(fpr, tpr, lw=2, label='ROC curve ', color='navy')\n",
        "plt.plot([0, 1], [0, 1], color = 'r')\n",
        "plt.xlabel('False Positive Rate')\n",
        "plt.ylabel('True Positive Rate')\n",
        "plt.title('ROC curve')\n",
        "plt.show()"
      ],
      "execution_count": null,
      "outputs": [
        {
          "output_type": "display_data",
          "data": {
            "image/png": "[encoded data removed]",
            "text/plain": [
              "<Figure size 432x288 with 1 Axes>"
            ]
          },
          "metadata": {
            "tags": [],
            "needs_background": "light"
          }
        }
      ]
    },
    {
      "cell_type": "markdown",
      "metadata": {
        "id": "5GzO_uRULYm6"
      },
      "source": [
        "## Support Vector Machine"
      ]
    },
    {
      "cell_type": "code",
      "metadata": {
        "colab": {
          "base_uri": "https://localhost:8080/"
        },
        "id": "KtDFeK5TK8-q",
        "outputId": "ed1aae1b-bf87-4498-9ece-497202e4ba32"
      },
      "source": [
        "text_clf = Pipeline([('vect', CountVectorizer()),\n",
        "                     ('tfidf', TfidfTransformer()),\n",
        "                     ('clf', LinearSVC())])\n",
        "\n",
        "text_clf.fit(X_train, y_train)\n",
        "predicted = text_clf.predict(X_test)\n",
        "print(metrics.classification_report(y_test, predicted))"
      ],
      "execution_count": null,
      "outputs": [
        {
          "output_type": "stream",
          "text": [
            "              precision    recall  f1-score   support\n",
            "\n",
            "       False       0.90      0.89      0.90       304\n",
            "        True       0.90      0.90      0.90       305\n",
            "\n",
            "    accuracy                           0.90       609\n",
            "   macro avg       0.90      0.90      0.90       609\n",
            "weighted avg       0.90      0.90      0.90       609\n",
            "\n"
          ],
          "name": "stdout"
        }
      ]
    },
    {
      "cell_type": "code",
      "metadata": {
        "id": "kChWaHMnQdvo"
      },
      "source": [
        "tn, fp, fn, tp = confusion_matrix(y_test, predicted).ravel()\n",
        "fpr = fp / (fp + tn)\n",
        "svm_rocauc = round(roc_auc_score(y_test, predicted, average='weighted'), 2)"
      ],
      "execution_count": null,
      "outputs": []
    },
    {
      "cell_type": "code",
      "metadata": {
        "colab": {
          "base_uri": "https://localhost:8080/"
        },
        "id": "8eU4uETzQdvr",
        "outputId": "1d7aa705-1bf8-4963-99e0-10bcd83c918d"
      },
      "source": [
        "plt.figure(figsize=(6, 4))\n",
        "fpr, tpr, thresholds = roc_curve(y_test, predicted, pos_label=1)\n",
        "plt.plot(fpr, tpr, lw=2, label='ROC curve ', color='navy')\n",
        "plt.plot([0, 1], [0, 1], color = 'r')\n",
        "plt.xlabel('False Positive Rate')\n",
        "plt.ylabel('True Positive Rate')\n",
        "plt.title('ROC curve')\n",
        "plt.show()"
      ],
      "execution_count": null,
      "outputs": [
        {
          "output_type": "display_data",
          "data": {
            "image/png": "[encoded data removed]",
            "text/plain": [
              "<Figure size 432x288 with 1 Axes>"
            ]
          },
          "metadata": {
            "tags": [],
            "needs_background": "light"
          }
        }
      ]
    },
    {
      "cell_type": "markdown",
      "metadata": {
        "id": "dmuCpixbNftz"
      },
      "source": [
        "## Decision Tree"
      ]
    },
    {
      "cell_type": "code",
      "metadata": {
        "colab": {
          "base_uri": "https://localhost:8080/"
        },
        "id": "d0HkKJrJNfF_",
        "outputId": "5a7f8110-ab32-4d29-8a3c-17c27bb3c065"
      },
      "source": [
        "text_clf = Pipeline([('vect', CountVectorizer()),\n",
        "                     ('tfidf', TfidfTransformer()),\n",
        "                     ('clf', tree.DecisionTreeClassifier(criterion='entropy',\n",
        "                     max_depth=None, min_samples_split=2,\n",
        "                     min_samples_leaf=1, max_features=\"sqrt\", random_state=77))])\n",
        "\n",
        "text_clf.fit(X_train, y_train)\n",
        "predicted = text_clf.predict(X_test)\n",
        "print(metrics.classification_report(y_test, predicted))"
      ],
      "execution_count": null,
      "outputs": [
        {
          "output_type": "stream",
          "text": [
            "              precision    recall  f1-score   support\n",
            "\n",
            "       False       0.82      0.75      0.78       304\n",
            "        True       0.77      0.83      0.80       305\n",
            "\n",
            "    accuracy                           0.79       609\n",
            "   macro avg       0.79      0.79      0.79       609\n",
            "weighted avg       0.79      0.79      0.79       609\n",
            "\n"
          ],
          "name": "stdout"
        }
      ]
    },
    {
      "cell_type": "code",
      "metadata": {
        "id": "erPmeZOUQc0Z"
      },
      "source": [
        "tn, fp, fn, tp = confusion_matrix(y_test, predicted).ravel()\n",
        "fpr = fp / (fp + tn)\n",
        "tpr = tp / (tp + fn)\n",
        "dt_rocauc = round(roc_auc_score(y_test, predicted, average='weighted'), 2)"
      ],
      "execution_count": null,
      "outputs": []
    },
    {
      "cell_type": "code",
      "metadata": {
        "colab": {
          "base_uri": "https://localhost:8080/"
        },
        "id": "3cR78k5qQc01",
        "outputId": "073d1a17-3ab5-422d-91ba-a8f133297efe"
      },
      "source": [
        "plt.figure(figsize=(6, 4))\n",
        "fpr, tpr, thresholds = roc_curve(y_test, predicted, pos_label=1)\n",
        "plt.plot(fpr, tpr, lw=2, label='ROC curve ', color='navy')\n",
        "plt.plot([0, 1], [0, 1], color = 'r')\n",
        "plt.xlabel('False Positive Rate')\n",
        "plt.ylabel('True Positive Rate')\n",
        "plt.title('ROC curve')\n",
        "plt.show()"
      ],
      "execution_count": null,
      "outputs": [
        {
          "output_type": "display_data",
          "data": {
            "image/png": "[encoded data removed]",
            "text/plain": [
              "<Figure size 432x288 with 1 Axes>"
            ]
          },
          "metadata": {
            "tags": [],
            "needs_background": "light"
          }
        }
      ]
    },
    {
      "cell_type": "markdown",
      "metadata": {
        "id": "z5gp69RoNpTO"
      },
      "source": [
        "## Random Forest"
      ]
    },
    {
      "cell_type": "code",
      "metadata": {
        "colab": {
          "base_uri": "https://localhost:8080/"
        },
        "id": "wxK9CXeYNfLY",
        "outputId": "6e671113-1d00-4f49-e13f-ddb3256a6232"
      },
      "source": [
        "text_clf = Pipeline([('vect', CountVectorizer()),\n",
        "                     ('tfidf', TfidfTransformer()),\n",
        "                     ('clf', RandomForestClassifier(n_estimators=100,\n",
        "                     criterion='entropy', max_depth=None,\n",
        "                     min_samples_split=2, min_samples_leaf=1,\n",
        "                     oob_score=True, n_jobs=-1,\n",
        "                     max_features=10, random_state=77))])\n",
        "\n",
        "text_clf.fit(X_train, y_train)\n",
        "predicted = text_clf.predict(X_test)\n",
        "print(metrics.classification_report(y_test, predicted))"
      ],
      "execution_count": null,
      "outputs": [
        {
          "output_type": "stream",
          "text": [
            "              precision    recall  f1-score   support\n",
            "\n",
            "       False       0.86      0.92      0.89       304\n",
            "        True       0.92      0.85      0.88       305\n",
            "\n",
            "    accuracy                           0.89       609\n",
            "   macro avg       0.89      0.89      0.89       609\n",
            "weighted avg       0.89      0.89      0.89       609\n",
            "\n"
          ],
          "name": "stdout"
        }
      ]
    },
    {
      "cell_type": "code",
      "metadata": {
        "id": "iJGUkKp8C1st"
      },
      "source": [
        "tn, fp, fn, tp = confusion_matrix(y_test, predicted).ravel()\n",
        "fpr = fp / (fp + tn)\n",
        "tpr = tp / (tp + fn)\n",
        "rf_rocauc = round(roc_auc_score(y_test, predicted, average='weighted'), 2)"
      ],
      "execution_count": null,
      "outputs": []
    },
    {
      "cell_type": "code",
      "metadata": {
        "colab": {
          "base_uri": "https://localhost:8080/"
        },
        "id": "cKcen1RuNN5E",
        "outputId": "32a9ac75-edc9-48b1-d5b9-5178633a59f4"
      },
      "source": [
        "plt.figure(figsize=(6, 4))\n",
        "fpr, tpr, thresholds = roc_curve(y_test, predicted, pos_label=1)\n",
        "plt.plot(fpr, tpr, lw=2, label='ROC curve ', color='navy')\n",
        "plt.plot([0, 1], [0, 1], color = 'r')\n",
        "plt.xlabel('False Positive Rate')\n",
        "plt.ylabel('True Positive Rate')\n",
        "plt.title('ROC curve')\n",
        "plt.show()"
      ],
      "execution_count": null,
      "outputs": [
        {
          "output_type": "display_data",
          "data": {
            "image/png": "[encoded data removed]",
            "text/plain": [
              "<Figure size 432x288 with 1 Axes>"
            ]
          },
          "metadata": {
            "tags": [],
            "needs_background": "light"
          }
        }
      ]
    },
    {
      "cell_type": "markdown",
      "metadata": {
        "id": "FTK8Wnz0v9yZ"
      },
      "source": [
        "## Plot results"
      ]
    },
    {
      "cell_type": "code",
      "metadata": {
        "id": "XtTNkQATk60L"
      },
      "source": [
        "rocauc = [rocchio_rocauc, boosting_rocauc, bagging_rocauc, bayes_rocauc, neighbor_rocauc, svm_rocauc, dt_rocauc, rf_rocauc]\n",
        "score = [[rocchio_rocauc],[boosting_rocauc],[bagging_rocauc],[bayes_rocauc],[neighbor_rocauc],[svm_rocauc],[dt_rocauc],[rf_rocauc]]\n",
        "df4 = pd.DataFrame(list(zip(score)), index =[\"Rocchio\", \"Boosting\", \"Bagging\", \"Bayes\", \"kNN\", \"SVM\", \"Decision Tree\", \"Random Forest\"], columns =[\"Score\"])"
      ],
      "execution_count": null,
      "outputs": []
    },
    {
      "cell_type": "code",
      "metadata": {
        "id": "jk9kp8-J0-In"
      },
      "source": [
        "index =[\"Rocchio\", \"Boosting\", \"Bagging\", \"Bayes\", \"kNN\", \"SVM\", \"Decision Tree\", \"Random Forest\"]"
      ],
      "execution_count": null,
      "outputs": []
    },
    {
      "cell_type": "code",
      "metadata": {
        "colab": {
          "base_uri": "https://localhost:8080/",
          "height": 457
        },
        "id": "xtKR9p5mn4uU",
        "outputId": "b2c5f32d-c2b1-4392-f35e-a65a630defbe"
      },
      "source": [
        "plt.figure(figsize=(16, 7))\n",
        "ax = sns.barplot(data = sorted(df4.Score, reverse=False), palette = \"Blues_d\")\n",
        "ax.set_xticklabels(index, fontsize=14)\n",
        "plt.yticks(fontsize=20)\n",
        "plt.title(\"ROC-AUC\", fontsize=25)\n",
        "plt.ylim(min(rocauc)-0.01, max(rocauc)+0.01);"
      ],
      "execution_count": null,
      "outputs": [
        {
          "output_type": "display_data",
          "data": {
            "image/png": "[encoded data removed]",
            "text/plain": [
              "<Figure size 1152x504 with 1 Axes>"
            ]
          },
          "metadata": {
            "tags": [],
            "needs_background": "light"
          }
        }
      ]
    }
  ]
}